{
 "cells": [
  {
   "cell_type": "code",
   "execution_count": 1,
   "id": "aeeb2f6d-43ff-4434-9eaa-d1e1024f7e19",
   "metadata": {},
   "outputs": [],
   "source": [
    "from scipy.sparse import linalg\n",
    "import pandas as pd\n",
    "from sklearn.model_selection import train_test_split\n",
    "from sklearn.feature_extraction.text import TfidfVectorizer\n",
    "from sklearn.svm import SVC\n",
    "from sklearn.metrics import accuracy_score, classification_report\n",
    "import joblib"
   ]
  },
  {
   "cell_type": "code",
   "execution_count": 3,
   "id": "7a9cc7bd-5b24-46c8-bc6d-e363b856de0c",
   "metadata": {},
   "outputs": [],
   "source": [
    "dark_patterns_df = pd.read_csv('data/darkpatterns.csv')\n",
    "\n",
    "X_train, X_test, y_train, y_test = train_test_split(dark_patterns_df['text'], dark_patterns_df['label'], test_size=0.2, random_state=42)"
   ]
  },
  {
   "cell_type": "code",
   "execution_count": 4,
   "id": "d24c2ee6-b319-414c-91f3-496748a646b8",
   "metadata": {},
   "outputs": [],
   "source": [
    "vectorizer = TfidfVectorizer()\n",
    "\n",
    "X_train_vectorized = vectorizer.fit_transform(X_train)\n",
    "X_test_vectorized = vectorizer.transform(X_test)"
   ]
  },
  {
   "cell_type": "code",
   "execution_count": 5,
   "id": "6a0f7f51-6493-40ea-9c32-e9721914b40d",
   "metadata": {},
   "outputs": [],
   "source": [
    "model = SVC(kernel='linear', C=2)\n",
    "\n",
    "model.fit(X_train_vectorized, y_train)\n",
    "\n",
    "y_pred = model.predict(X_test_vectorized)"
   ]
  },
  {
   "cell_type": "code",
   "execution_count": 6,
   "id": "8b199a63-f81a-473a-8516-79159e482a8a",
   "metadata": {},
   "outputs": [
    {
     "name": "stdout",
     "output_type": "stream",
     "text": [
      "Accuracy: 0.9216101694915254\n",
      "Classification Report:\n",
      "              precision    recall  f1-score   support\n",
      "\n",
      "           0       0.94      0.91      0.92       244\n",
      "           1       0.90      0.94      0.92       228\n",
      "\n",
      "    accuracy                           0.92       472\n",
      "   macro avg       0.92      0.92      0.92       472\n",
      "weighted avg       0.92      0.92      0.92       472\n",
      "\n"
     ]
    },
    {
     "data": {
      "text/plain": [
       "['model_svm.pkl']"
      ]
     },
     "execution_count": 6,
     "metadata": {},
     "output_type": "execute_result"
    }
   ],
   "source": [
    "accuracy = accuracy_score(y_test, y_pred)\n",
    "classification_rep = classification_report(y_test, y_pred)\n",
    "print(f'Accuracy: {accuracy}')\n",
    "print('Classification Report:')\n",
    "print(classification_rep)\n",
    "\n",
    "joblib.dump(model, 'model_svm.pkl')"
   ]
  },
  {
   "cell_type": "code",
   "execution_count": null,
   "id": "acadf03b-53d8-484b-a1de-9e02ea297f3b",
   "metadata": {},
   "outputs": [],
   "source": []
  }
 ],
 "metadata": {
  "kernelspec": {
   "display_name": "Python 3 (ipykernel)",
   "language": "python",
   "name": "python3"
  },
  "language_info": {
   "codemirror_mode": {
    "name": "ipython",
    "version": 3
   },
   "file_extension": ".py",
   "mimetype": "text/x-python",
   "name": "python",
   "nbconvert_exporter": "python",
   "pygments_lexer": "ipython3",
   "version": "3.10.13"
  }
 },
 "nbformat": 4,
 "nbformat_minor": 5
}
